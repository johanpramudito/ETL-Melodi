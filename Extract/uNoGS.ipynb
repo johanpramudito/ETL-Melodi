{
 "cells": [
  {
   "cell_type": "markdown",
   "metadata": {},
   "source": [
    "### Collecting movies on Neflix in United States which have an IMDb rating greater than or equal to 7"
   ]
  },
  {
   "cell_type": "markdown",
   "metadata": {},
   "source": [
    "### Source: https://rapidapi.com/unogs/api/unogs/endpoints"
   ]
  },
  {
   "cell_type": "markdown",
   "metadata": {},
   "source": [
    "#### EndPoint: GET Advanced Search\n",
    "\n",
    "Page Limit- 100 results returned per page"
   ]
  },
  {
   "cell_type": "code",
   "execution_count": 4,
   "metadata": {},
   "outputs": [],
   "source": [
    "import sys\n",
    "sys.path.append('../')\n",
    "\n",
    "import pandas as pd\n",
    "import requests\n",
    "\n",
    "from API_keys.config_unogs import api_key\n",
    "\n",
    "import json \n",
    "from pprint import pprint \n",
    "\n",
    "import re\n",
    "import time"
   ]
  },
  {
   "cell_type": "markdown",
   "metadata": {},
   "source": [
    "#### Search Query Parameters\n",
    "'cl' is country list and 78 is the code for United States (infered from the source link).\n",
    "\n",
    "The query has other parameters for genre, subtitles, audio, etc. No filtering done on basis of these parameters."
   ]
  },
  {
   "cell_type": "code",
   "execution_count": 5,
   "metadata": {},
   "outputs": [],
   "source": [
    "url = \"https://unogs-unogs-v1.p.rapidapi.com/aaapi.cgi\"\n",
    "    \n",
    "querystring = {\n",
    "    \"q\": \"{query}-!1900,2020-!0,5-!7,10-!Any-!Movie-!Any-!Any-!gt100-!{downloadable}\",\n",
    "    \"t\": \"ns\",\n",
    "    \"cl\": \"78\",\n",
    "    \"st\": \"adv\",\n",
    "    \"ob\": \"Rating\",\n",
    "#     \"p\": \"1\",\n",
    "    \"sa\": \"or\"\n",
    "}\n",
    "\n",
    "headers = {\n",
    "    'x-rapidapi-host': \"unogs-unogs-v1.p.rapidapi.com\",\n",
    "    'x-rapidapi-key': api_key\n",
    "    }\n"
   ]
  },
  {
   "cell_type": "code",
   "execution_count": 9,
   "metadata": {},
   "outputs": [
    {
     "name": "stdout",
     "output_type": "stream",
     "text": [
      "On Page:  1\n",
      "Printing first result: Result 1 of 100\n",
      "\n",
      "\n",
      "{'netflixid': '81218363', 'title': 'Sillu Karuppatti', 'image': 'https://occ-0-2851-38.1.nflxso.net/dnm/api/v6/evlCitJPPCVCry0BZlEFb5-QjKc/AAAABe5MBjyp7pc1drKomfeyUiNo-FCglFJL_0WYkTgQTf0Xp1C6JrjjAg7ggjXB_duuueN1JMGGoEwKvLJG0q3KeM6WUQ.jpg?r=c4b', 'synopsis': 'From first crushes to post-marriage relationships, love and connection are at the heart of the four interwoven stories in this anthology film.', 'rating': '8.8', 'type': 'movie', 'released': '2019', 'runtime': '2h13m', 'largeimage': 'https://occ-0-37-33.1.nflxso.net/dnm/api/v6/evlCitJPPCVCry0BZlEFb5-QjKc/AAAABTa-j90nRDSjyWS97zW5IPPKUk_sg7Wag7KbWvY0EMhU-7OHeNR-F9xfIbNko07Xa0gcA-osEawPtqAwYLPBAUzFx4L6.jpg?r=c4b', 'unogsdate': '2020-01-26', 'imdbid': 'tt9614988', 'download': '0'}\n",
      "On Page:  2\n",
      "Printing first result: Result 1 of 100\n",
      "\n",
      "\n",
      "{'netflixid': '81438157', 'title': 'Free to Play', 'image': 'https://occ-0-3607-2774.1.nflxso.net/dnm/api/v6/evlCitJPPCVCry0BZlEFb5-QjKc/AAAABTrrimoMoJ1rKlc9OLrA0Pn8VWtKcBwLFeWfxmzYRrg9qOCOroZ-SsnYbFz_UHZbEQ3rIDSdwSeqIS_Vi-y_uY3MNA.jpg?r=dae', 'synopsis': 'This documentary follows three professional video game players as they compete in an international tournament with a million-dollar prize.', 'rating': '7.9', 'type': 'movie', 'released': '2014', 'runtime': '1h15m', 'largeimage': 'https://occ-0-4039-2774.1.nflxso.net/dnm/api/v6/evlCitJPPCVCry0BZlEFb5-QjKc/AAAABW1iKnPug_UZs742acr-XbzvZXoJuTO30v1YYhiz6BXkqolxxsxvKvJlVFaAEF7IksgBMuA9covPNxkg1rjTUoyG2VEv.jpg?r=dae', 'unogsdate': '2021-04-19', 'imdbid': 'tt3203290', 'download': '0'}\n",
      "On Page:  3\n",
      "Printing first result: Result 1 of 100\n",
      "\n",
      "\n",
      "{'netflixid': '70056440', 'title': '300', 'image': 'https://occ-0-2851-38.1.nflxso.net/dnm/api/v6/evlCitJPPCVCry0BZlEFb5-QjKc/AAAABa-TAz4e2e9CgSbKG-kVGKgw5AwwXOI2M_7-4RPACO_4uXn1oZ1BJvjF8xlExJ7_vInqnA5bQwTw9dhN9uPlVR3aNA.jpg?r=d41', 'synopsis': 'In 480 B.C., Spartan King Leonidas leads his small band of 300 soldiers against an army of more than 1 million during the Battle of Thermopylae.', 'rating': '7.5', 'type': 'movie', 'released': '2007', 'runtime': '1h56m', 'largeimage': 'https://occ-0-56-55.1.nflxso.net/dnm/api/v6/evlCitJPPCVCry0BZlEFb5-QjKc/AAAABQwyw3OcOEofXg58axFS5yT7qmUmTpw1HaGpzO_Q-qTqdt7GcksiptQ_YorLxQThDP9lL4SPo0hOCSvNYgCtbhHdu-rK.jpg?r=d41', 'unogsdate': '2015-04-14', 'imdbid': 'tt0892737', 'download': '1'}\n",
      "On Page:  4\n",
      "Printing first result: Result 1 of 100\n",
      "\n",
      "\n",
      "{'netflixid': '80163050', 'title': 'One Piece Film: Gold', 'image': 'https://occ-0-1007-1360.1.nflxso.net/dnm/api/v6/evlCitJPPCVCry0BZlEFb5-QjKc/AAAABTwhTi7TX-jn5cH4NzEIv2uv9Vo2OxQMwqIjGp9v8dTN5Lldljczv6BTx0kikXjfAxkgdkIqLDRiQ4VZS53WxseaGA.jpg?r=015', 'synopsis': 'Luffy and his pirates can&#39;t wait to board the glittering Sin City ship known as Gran Tesoro, but they soon find themselves in way over their heads.', 'rating': '7.3', 'type': 'movie', 'released': '2016', 'runtime': '2h0m', 'largeimage': 'https://occ-0-993-988.1.nflxso.net/dnm/api/v6/evlCitJPPCVCry0BZlEFb5-QjKc/AAAABdczvs8qaNTl83lRfGlrG4tBiCNlXJx2LOoznrkxs4OTc0DtAJlv9Nunf6GCz6WK15QuFPQLIcB6Em8lFg8q9pAjpBed.jpg?r=452', 'unogsdate': '2018-07-22', 'imdbid': 'tt5251328', 'download': '0'}\n",
      "On Page:  5\n",
      "Printing first result: Result 1 of 100\n",
      "\n",
      "\n",
      "{'netflixid': '81020839', 'title': 'Party Monster: Scratching the Surface', 'image': 'https://occ-0-2851-38.1.nflxso.net/dnm/api/v6/evlCitJPPCVCry0BZlEFb5-QjKc/AAAABTOQqi63DspOeEXJBL73Qg7HDLb-cc9RZ3zyb9zMCMr85PHN0ragfcong6G9oTS0TgyRVJ9-RhcznfmsEpfpTupdLQ.jpg?r=4f4', 'synopsis': 'In the probing documentary &#39;Party Monster,&#39; DJ Fingablast investigates what became of his childhood hero, DJ Slizzard.', 'rating': '7.1', 'type': 'movie', 'released': '2018', 'runtime': '33m', 'largeimage': 'https://occ-0-2101-185.1.nflxso.net/dnm/api/v6/evlCitJPPCVCry0BZlEFb5-QjKc/AAAABe1nzCD2mCXf15_3SEql1L09gCmzb2KfuWTXKOZGwXEc7EO26EOZXj6qVAmpYx6Ot8QLZ_3YyfLt3JeWKNQikL_V6wAh.jpg?r=4f4', 'unogsdate': '2018-08-17', 'imdbid': 'tt8008382', 'download': '0'}\n",
      "On Page:  6\n",
      "No results found on this page\n",
      "On Page:  7\n",
      "No results found on this page\n",
      "On Page:  8\n",
      "No results found on this page\n",
      "On Page:  9\n",
      "No results found on this page\n",
      "On Page:  10\n",
      "No results found on this page\n"
     ]
    }
   ],
   "source": [
    "results = []\n",
    "\n",
    "for x in range(1,11):\n",
    "    querystring['p'] = x\n",
    "    \n",
    "    response = requests.request(\"GET\", url, headers=headers, params=querystring)\n",
    "            \n",
    "    json_result = response.json()\n",
    "    result_item = json_result['ITEMS']\n",
    "    print(\"On Page: \", x)\n",
    "    \n",
    "    # Check if there are any results before accessing\n",
    "    if result_item and len(result_item) > 0:\n",
    "        print(\"Printing first result: Result 1 of 100\")\n",
    "        print('\\n')\n",
    "        print(result_item[0])\n",
    "    else:\n",
    "        print(\"No results found on this page\")\n",
    "        continue\n",
    "\n",
    "    # Save page results if there are any\n",
    "    with open (f'../Output/uNoGS/json_files/netflix_pg{x}.json', 'w') as f:\n",
    "        json.dump(result_item, f)\n",
    "    \n",
    "    # Append results only if there are any\n",
    "    if result_item:\n",
    "        results.extend(result_item)\n",
    "    \n",
    "    time.sleep(2)"
   ]
  },
  {
   "cell_type": "code",
   "execution_count": 10,
   "metadata": {},
   "outputs": [],
   "source": [
    "with open ('../Output/uNoGS/json_files/netflix_all_pages.json', 'w') as f:\n",
    "    json.dump(results, f)"
   ]
  },
  {
   "cell_type": "code",
   "execution_count": 25,
   "metadata": {},
   "outputs": [
    {
     "data": {
      "text/html": [
       "<div>\n",
       "<style scoped>\n",
       "    .dataframe tbody tr th:only-of-type {\n",
       "        vertical-align: middle;\n",
       "    }\n",
       "\n",
       "    .dataframe tbody tr th {\n",
       "        vertical-align: top;\n",
       "    }\n",
       "\n",
       "    .dataframe thead th {\n",
       "        text-align: right;\n",
       "    }\n",
       "</style>\n",
       "<table border=\"1\" class=\"dataframe\">\n",
       "  <thead>\n",
       "    <tr style=\"text-align: right;\">\n",
       "      <th></th>\n",
       "      <th>netflixid</th>\n",
       "      <th>title</th>\n",
       "      <th>image</th>\n",
       "      <th>synopsis</th>\n",
       "      <th>rating</th>\n",
       "      <th>type</th>\n",
       "      <th>released</th>\n",
       "      <th>runtime</th>\n",
       "      <th>largeimage</th>\n",
       "      <th>unogsdate</th>\n",
       "      <th>imdbid</th>\n",
       "      <th>download</th>\n",
       "    </tr>\n",
       "  </thead>\n",
       "  <tbody>\n",
       "    <tr>\n",
       "      <th>0</th>\n",
       "      <td>81218363</td>\n",
       "      <td>Sillu Karuppatti</td>\n",
       "      <td>https://occ-0-2851-38.1.nflxso.net/dnm/api/v6/...</td>\n",
       "      <td>From first crushes to post-marriage relationsh...</td>\n",
       "      <td>8.8</td>\n",
       "      <td>movie</td>\n",
       "      <td>2019</td>\n",
       "      <td>2h13m</td>\n",
       "      <td>https://occ-0-37-33.1.nflxso.net/dnm/api/v6/ev...</td>\n",
       "      <td>2020-01-26</td>\n",
       "      <td>tt9614988</td>\n",
       "      <td>0</td>\n",
       "    </tr>\n",
       "    <tr>\n",
       "      <th>1</th>\n",
       "      <td>70272846</td>\n",
       "      <td>30 for 30: Survive and Advance</td>\n",
       "      <td>http://art-0.nflximg.net/40031/f380436ffeb09a7...</td>\n",
       "      <td>In 1983, the NC State Wolfpack, coached by Jim...</td>\n",
       "      <td>8.7</td>\n",
       "      <td>movie</td>\n",
       "      <td>2013</td>\n",
       "      <td>1h41m</td>\n",
       "      <td>http://cdn0.nflximg.net/images/8232/11928232.jpg</td>\n",
       "      <td>2015-04-14</td>\n",
       "      <td>tt2751904</td>\n",
       "      <td>0</td>\n",
       "    </tr>\n",
       "    <tr>\n",
       "      <th>2</th>\n",
       "      <td>81086533</td>\n",
       "      <td>Downton Abbey</td>\n",
       "      <td>https://occ-0-1007-1360.1.nflxso.net/dnm/api/v...</td>\n",
       "      <td>Turn back the clock with the Crawley family an...</td>\n",
       "      <td>8.7</td>\n",
       "      <td>movie</td>\n",
       "      <td>2019</td>\n",
       "      <td>2h1m</td>\n",
       "      <td>https://occ-0-1007-1360.1.nflxso.net/dnm/api/v...</td>\n",
       "      <td>2020-07-17</td>\n",
       "      <td>tt1606375</td>\n",
       "      <td>0</td>\n",
       "    </tr>\n",
       "    <tr>\n",
       "      <th>3</th>\n",
       "      <td>81281469</td>\n",
       "      <td>Ani... Dr. Kashinath Ghanekar</td>\n",
       "      <td>https://occ-0-2851-1432.1.nflxso.net/dnm/api/v...</td>\n",
       "      <td>From his singular career to his personal demon...</td>\n",
       "      <td>8.7</td>\n",
       "      <td>movie</td>\n",
       "      <td>2018</td>\n",
       "      <td>2h37m</td>\n",
       "      <td>https://occ-0-1068-92.1.nflxso.net/dnm/api/v6/...</td>\n",
       "      <td>2020-09-09</td>\n",
       "      <td>tt8784906</td>\n",
       "      <td>0</td>\n",
       "    </tr>\n",
       "    <tr>\n",
       "      <th>4</th>\n",
       "      <td>81327516</td>\n",
       "      <td>One</td>\n",
       "      <td>https://occ-0-487-1722.1.nflxso.net/dnm/api/v6...</td>\n",
       "      <td>A formidable Kerala chief minister&amp;rsquo;s par...</td>\n",
       "      <td>8.7</td>\n",
       "      <td>movie</td>\n",
       "      <td>2020</td>\n",
       "      <td>2h29m</td>\n",
       "      <td>https://occ-0-1142-1722.1.nflxso.net/dnm/api/v...</td>\n",
       "      <td>2021-04-27</td>\n",
       "      <td>tt0073486</td>\n",
       "      <td>0</td>\n",
       "    </tr>\n",
       "  </tbody>\n",
       "</table>\n",
       "</div>"
      ],
      "text/plain": [
       "   netflixid                           title  \\\n",
       "0   81218363                Sillu Karuppatti   \n",
       "1   70272846  30 for 30: Survive and Advance   \n",
       "2   81086533                   Downton Abbey   \n",
       "3   81281469   Ani... Dr. Kashinath Ghanekar   \n",
       "4   81327516                             One   \n",
       "\n",
       "                                               image  \\\n",
       "0  https://occ-0-2851-38.1.nflxso.net/dnm/api/v6/...   \n",
       "1  http://art-0.nflximg.net/40031/f380436ffeb09a7...   \n",
       "2  https://occ-0-1007-1360.1.nflxso.net/dnm/api/v...   \n",
       "3  https://occ-0-2851-1432.1.nflxso.net/dnm/api/v...   \n",
       "4  https://occ-0-487-1722.1.nflxso.net/dnm/api/v6...   \n",
       "\n",
       "                                            synopsis  rating   type  released  \\\n",
       "0  From first crushes to post-marriage relationsh...     8.8  movie      2019   \n",
       "1  In 1983, the NC State Wolfpack, coached by Jim...     8.7  movie      2013   \n",
       "2  Turn back the clock with the Crawley family an...     8.7  movie      2019   \n",
       "3  From his singular career to his personal demon...     8.7  movie      2018   \n",
       "4  A formidable Kerala chief minister&rsquo;s par...     8.7  movie      2020   \n",
       "\n",
       "  runtime                                         largeimage   unogsdate  \\\n",
       "0   2h13m  https://occ-0-37-33.1.nflxso.net/dnm/api/v6/ev...  2020-01-26   \n",
       "1   1h41m   http://cdn0.nflximg.net/images/8232/11928232.jpg  2015-04-14   \n",
       "2    2h1m  https://occ-0-1007-1360.1.nflxso.net/dnm/api/v...  2020-07-17   \n",
       "3   2h37m  https://occ-0-1068-92.1.nflxso.net/dnm/api/v6/...  2020-09-09   \n",
       "4   2h29m  https://occ-0-1142-1722.1.nflxso.net/dnm/api/v...  2021-04-27   \n",
       "\n",
       "      imdbid download  \n",
       "0  tt9614988        0  \n",
       "1  tt2751904        0  \n",
       "2  tt1606375        0  \n",
       "3  tt8784906        0  \n",
       "4  tt0073486        0  "
      ]
     },
     "execution_count": 25,
     "metadata": {},
     "output_type": "execute_result"
    }
   ],
   "source": [
    "netflix_df = pd.read_json('../Output/uNoGS/json_files/netflix_all_pages.json')\n",
    "netflix_df.head()"
   ]
  },
  {
   "cell_type": "code",
   "execution_count": 26,
   "metadata": {},
   "outputs": [
    {
     "data": {
      "text/plain": [
       "(456, 12)"
      ]
     },
     "execution_count": 26,
     "metadata": {},
     "output_type": "execute_result"
    }
   ],
   "source": [
    "netflix_df.shape"
   ]
  },
  {
   "cell_type": "code",
   "execution_count": 27,
   "metadata": {},
   "outputs": [],
   "source": [
    "netflix_df.to_csv('../Output/uNoGS/netflix_all_pages.csv')"
   ]
  }
 ],
 "metadata": {
  "kernelspec": {
   "display_name": "cuda",
   "language": "python",
   "name": "python3"
  },
  "language_info": {
   "codemirror_mode": {
    "name": "ipython",
    "version": 3
   },
   "file_extension": ".py",
   "mimetype": "text/x-python",
   "name": "python",
   "nbconvert_exporter": "python",
   "pygments_lexer": "ipython3",
   "version": "3.10.14"
  }
 },
 "nbformat": 4,
 "nbformat_minor": 2
}
