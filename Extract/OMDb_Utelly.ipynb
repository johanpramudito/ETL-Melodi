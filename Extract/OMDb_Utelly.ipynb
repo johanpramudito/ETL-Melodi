{
 "cells": [
  {
   "cell_type": "markdown",
   "metadata": {},
   "source": [
    "## Collecting the streaming options for top 250 IMDb rated movies"
   ]
  },
  {
   "cell_type": "markdown",
   "metadata": {},
   "source": [
    "### Source Link: https://rapidapi.com/utelly/api/utelly"
   ]
  },
  {
   "cell_type": "code",
   "execution_count": null,
   "metadata": {},
   "outputs": [],
   "source": [
    "import sys\n",
    "sys.path.append('../')\n",
    "\n",
    "import pandas as pd\n",
    "import requests\n",
    "\n",
    "from API_keys.config_omdb import omdb_key\n",
    "\n",
    "import json \n",
    "import re\n",
    "import time\n",
    "\n",
    "from bs4 import BeautifulSoup\n",
    "\n",
    "from selenium import webdriver\n",
    "from selenium.webdriver.support import expected_conditions as EC"
   ]
  },
  {
   "cell_type": "code",
   "execution_count": 2,
   "metadata": {},
   "outputs": [
    {
     "name": "stdout",
     "output_type": "stream",
     "text": [
      "c:\\Projects\\TUGAS\\ETL-Melodi\\venv\\Scripts\\chromedriver.exe\n"
     ]
    }
   ],
   "source": [
    "!where chromedriver"
   ]
  },
  {
   "cell_type": "markdown",
   "metadata": {},
   "source": [
    "#### Step 1: Collecting Top 250 IMDb from IMDb website\n",
    "\n",
    "Source Link: https://www.imdb.com/chart/top/?ref_=nv_mv_250"
   ]
  },
  {
   "cell_type": "code",
   "execution_count": 4,
   "metadata": {},
   "outputs": [
    {
     "name": "stdout",
     "output_type": "stream",
     "text": [
      "Successfully scraped 249 movies\n"
     ]
    },
    {
     "data": {
      "text/html": [
       "<div>\n",
       "<style scoped>\n",
       "    .dataframe tbody tr th:only-of-type {\n",
       "        vertical-align: middle;\n",
       "    }\n",
       "\n",
       "    .dataframe tbody tr th {\n",
       "        vertical-align: top;\n",
       "    }\n",
       "\n",
       "    .dataframe thead th {\n",
       "        text-align: right;\n",
       "    }\n",
       "</style>\n",
       "<table border=\"1\" class=\"dataframe\">\n",
       "  <thead>\n",
       "    <tr style=\"text-align: right;\">\n",
       "      <th></th>\n",
       "      <th>Title</th>\n",
       "      <th>IMDb_ID</th>\n",
       "      <th>Rating</th>\n",
       "      <th>Year</th>\n",
       "    </tr>\n",
       "  </thead>\n",
       "  <tbody>\n",
       "    <tr>\n",
       "      <th>0</th>\n",
       "      <td>1. The Shawshank Redemption</td>\n",
       "      <td>tt0111161</td>\n",
       "      <td>9.3</td>\n",
       "      <td>1994</td>\n",
       "    </tr>\n",
       "    <tr>\n",
       "      <th>1</th>\n",
       "      <td>2. The Godfather</td>\n",
       "      <td>tt0068646</td>\n",
       "      <td>9.2</td>\n",
       "      <td>1972</td>\n",
       "    </tr>\n",
       "    <tr>\n",
       "      <th>2</th>\n",
       "      <td>3. The Dark Knight</td>\n",
       "      <td>tt0468569</td>\n",
       "      <td>9.0</td>\n",
       "      <td>2008</td>\n",
       "    </tr>\n",
       "    <tr>\n",
       "      <th>3</th>\n",
       "      <td>4. The Godfather Part II</td>\n",
       "      <td>tt0071562</td>\n",
       "      <td>9.0</td>\n",
       "      <td>1974</td>\n",
       "    </tr>\n",
       "    <tr>\n",
       "      <th>4</th>\n",
       "      <td>5. 12 Angry Men</td>\n",
       "      <td>tt0050083</td>\n",
       "      <td>9.0</td>\n",
       "      <td>1957</td>\n",
       "    </tr>\n",
       "  </tbody>\n",
       "</table>\n",
       "</div>"
      ],
      "text/plain": [
       "                         Title    IMDb_ID Rating  Year\n",
       "0  1. The Shawshank Redemption  tt0111161    9.3  1994\n",
       "1             2. The Godfather  tt0068646    9.2  1972\n",
       "2           3. The Dark Knight  tt0468569    9.0  2008\n",
       "3     4. The Godfather Part II  tt0071562    9.0  1974\n",
       "4              5. 12 Angry Men  tt0050083    9.0  1957"
      ]
     },
     "execution_count": 4,
     "metadata": {},
     "output_type": "execute_result"
    }
   ],
   "source": [
    "# Initialize Chrome WebDriver (make sure you have chromedriver installed)\n",
    "driver = webdriver.Chrome()\n",
    "\n",
    "# Navigate to IMDb Top 250\n",
    "url = \"https://www.imdb.com/chart/top/\"\n",
    "driver.get(url)\n",
    "\n",
    "# Wait for page to load and scroll down to load all movies\n",
    "SCROLL_PAUSE_TIME = 2\n",
    "\n",
    "# Get scroll height\n",
    "last_height = driver.execute_script(\"return document.body.scrollHeight\")\n",
    "\n",
    "while True:\n",
    "    # Scroll down to bottom\n",
    "    driver.execute_script(\"window.scrollTo(0, document.body.scrollHeight);\")\n",
    "\n",
    "    # Wait to load page\n",
    "    time.sleep(SCROLL_PAUSE_TIME)\n",
    "\n",
    "    # Calculate new scroll height and compare with last scroll height\n",
    "    new_height = driver.execute_script(\"return document.body.scrollHeight\")\n",
    "    if new_height == last_height:\n",
    "        break\n",
    "    last_height = new_height\n",
    "\n",
    "# Get page source after all content is loaded\n",
    "soup = BeautifulSoup(driver.page_source, 'html.parser')\n",
    "\n",
    "# Initialize lists to store data\n",
    "movie_data = []\n",
    "\n",
    "# Find all movie entries\n",
    "movies = soup.find_all('li', class_='ipc-metadata-list-summary-item')\n",
    "\n",
    "for movie in movies:\n",
    "    movie_dict = {}\n",
    "    \n",
    "    # Extract title (remove ranking number from title)\n",
    "    title = movie.find('h3', class_='ipc-title__text')\n",
    "    if title:\n",
    "        movie_dict['Title'] = title.text.strip()\n",
    "    else:\n",
    "        movie_dict['Title'] = 'Unknown'\n",
    "    \n",
    "    # Extract IMDB ID\n",
    "    movie_link = movie.find('a', class_='ipc-title-link-wrapper')\n",
    "    if movie_link:\n",
    "        imdb_id = re.search(r'/title/(tt\\d+)/', movie_link['href'])\n",
    "        movie_dict['IMDb_ID'] = imdb_id.group(1) if imdb_id else 'Unknown'\n",
    "    \n",
    "    # Extract rating\n",
    "    rating = movie.find('span', class_='ipc-rating-star--imdb')\n",
    "    if rating:\n",
    "        movie_dict['Rating'] = rating['aria-label'].split()[-1]\n",
    "    \n",
    "    # Extract year\n",
    "    year = movie.find('span', class_='cli-title-metadata-item')\n",
    "    movie_dict['Year'] = year.text if year else 'Unknown'\n",
    "    \n",
    "    movie_data.append(movie_dict)\n",
    "\n",
    "# Close the browser\n",
    "driver.quit()\n",
    "\n",
    "# Create DataFrame\n",
    "Raw_df = pd.DataFrame(movie_data)\n",
    "\n",
    "# Display the data\n",
    "print(\"Successfully scraped\", len(Raw_df), \"movies\")\n",
    "Raw_df.head()"
   ]
  },
  {
   "cell_type": "markdown",
   "metadata": {},
   "source": [
    "### Separate 'Rank & Title' column to Rank and Title columns\n",
    "---"
   ]
  },
  {
   "cell_type": "code",
   "execution_count": 5,
   "metadata": {},
   "outputs": [
    {
     "data": {
      "text/html": [
       "<div>\n",
       "<style scoped>\n",
       "    .dataframe tbody tr th:only-of-type {\n",
       "        vertical-align: middle;\n",
       "    }\n",
       "\n",
       "    .dataframe tbody tr th {\n",
       "        vertical-align: top;\n",
       "    }\n",
       "\n",
       "    .dataframe thead th {\n",
       "        text-align: right;\n",
       "    }\n",
       "</style>\n",
       "<table border=\"1\" class=\"dataframe\">\n",
       "  <thead>\n",
       "    <tr style=\"text-align: right;\">\n",
       "      <th></th>\n",
       "      <th>Rank</th>\n",
       "      <th>Title</th>\n",
       "      <th>IMDb_ID</th>\n",
       "      <th>Year</th>\n",
       "      <th>Rating</th>\n",
       "    </tr>\n",
       "  </thead>\n",
       "  <tbody>\n",
       "    <tr>\n",
       "      <th>0</th>\n",
       "      <td>1</td>\n",
       "      <td>The Shawshank Redemption</td>\n",
       "      <td>tt0111161</td>\n",
       "      <td>1994</td>\n",
       "      <td>9.3</td>\n",
       "    </tr>\n",
       "    <tr>\n",
       "      <th>1</th>\n",
       "      <td>2</td>\n",
       "      <td>The Godfather</td>\n",
       "      <td>tt0068646</td>\n",
       "      <td>1972</td>\n",
       "      <td>9.2</td>\n",
       "    </tr>\n",
       "    <tr>\n",
       "      <th>2</th>\n",
       "      <td>3</td>\n",
       "      <td>The Dark Knight</td>\n",
       "      <td>tt0468569</td>\n",
       "      <td>2008</td>\n",
       "      <td>9.0</td>\n",
       "    </tr>\n",
       "    <tr>\n",
       "      <th>3</th>\n",
       "      <td>4</td>\n",
       "      <td>The Godfather Part II</td>\n",
       "      <td>tt0071562</td>\n",
       "      <td>1974</td>\n",
       "      <td>9.0</td>\n",
       "    </tr>\n",
       "    <tr>\n",
       "      <th>4</th>\n",
       "      <td>5</td>\n",
       "      <td>12 Angry Men</td>\n",
       "      <td>tt0050083</td>\n",
       "      <td>1957</td>\n",
       "      <td>9.0</td>\n",
       "    </tr>\n",
       "  </tbody>\n",
       "</table>\n",
       "</div>"
      ],
      "text/plain": [
       "  Rank                     Title    IMDb_ID  Year Rating\n",
       "0    1  The Shawshank Redemption  tt0111161  1994    9.3\n",
       "1    2             The Godfather  tt0068646  1972    9.2\n",
       "2    3           The Dark Knight  tt0468569  2008    9.0\n",
       "3    4     The Godfather Part II  tt0071562  1974    9.0\n",
       "4    5              12 Angry Men  tt0050083  1957    9.0"
      ]
     },
     "execution_count": 5,
     "metadata": {},
     "output_type": "execute_result"
    }
   ],
   "source": [
    "# Extract rank numbers from title using str.extract()\n",
    "Raw_df['Rank'] = Raw_df['Title'].str.extract(r'^(\\d+)')\n",
    "\n",
    "# Remove rank numbers and period from title \n",
    "Raw_df['Title'] = Raw_df['Title'].str.replace(r'^\\d+\\.\\s*', '', regex=True)\n",
    "\n",
    "# Reorder columns\n",
    "Imdb_df = Raw_df[['Rank', 'Title', 'IMDb_ID', 'Year', 'Rating']]\n",
    "Imdb_df.head()"
   ]
  },
  {
   "cell_type": "code",
   "execution_count": 6,
   "metadata": {},
   "outputs": [],
   "source": [
    "Imdb_df.to_csv('../Output/OMDb_Utelly/Top_250_IMDb.csv', index=False)"
   ]
  },
  {
   "cell_type": "markdown",
   "metadata": {},
   "source": [
    "### Step 2: Collecting IMDb unique ID and other movie details from OMDb API\n",
    "\n",
    "Source Link: http://www.omdbapi.com/"
   ]
  },
  {
   "cell_type": "code",
   "execution_count": null,
   "metadata": {},
   "outputs": [],
   "source": [
    "url = \"https://www.omdbapi.com/?apikey=\" + omdb_key + \"&t=\""
   ]
  },
  {
   "cell_type": "code",
   "execution_count": 8,
   "metadata": {},
   "outputs": [],
   "source": [
    "movie_list = Imdb_df['Title']"
   ]
  },
  {
   "cell_type": "code",
   "execution_count": 9,
   "metadata": {},
   "outputs": [],
   "source": [
    "results_omdb = []\n",
    "\n",
    "for movie in movie_list:\n",
    "    movie_data = requests.get(url + movie).json()\n",
    "    results_omdb.append(movie_data)"
   ]
  },
  {
   "cell_type": "code",
   "execution_count": 10,
   "metadata": {},
   "outputs": [],
   "source": [
    "# Saving into a JSON file\n",
    "# Source Link: https://stackabuse.com/reading-and-writing-json-files-in-python-with-pandas/\n",
    "\n",
    "with open ('../Output/OMDb_Utelly/OMDb_250.json', 'w') as f:\n",
    "    json.dump(results_omdb, f)"
   ]
  },
  {
   "cell_type": "code",
   "execution_count": 11,
   "metadata": {},
   "outputs": [
    {
     "data": {
      "text/plain": [
       "<bound method NDFrame.head of                          Title    Year      Rated     Released  Runtime  \\\n",
       "0     The Shawshank Redemption  1994.0          R  14 Oct 1994  142 min   \n",
       "1                The Godfather  1972.0          R  24 Mar 1972  175 min   \n",
       "2              The Dark Knight  2008.0      PG-13  18 Jul 2008  152 min   \n",
       "3        The Godfather Part II  1974.0          R  18 Dec 1974  202 min   \n",
       "4                 12 Angry Men  1957.0   Approved  10 Apr 1957   96 min   \n",
       "..                         ...     ...        ...          ...      ...   \n",
       "244              Amores Perros  2000.0          R  13 Apr 2001  154 min   \n",
       "245                    Rebecca  1940.0   Approved  12 Apr 1940  130 min   \n",
       "246                   The Help  2011.0      PG-13  10 Aug 2011  146 min   \n",
       "247             Cool Hand Luke  1967.0   Approved  01 Nov 1967  127 min   \n",
       "248  A Silent Voice: The Movie  2016.0  Not Rated  17 Sep 2016  130 min   \n",
       "\n",
       "                       Genre                       Director  \\\n",
       "0                      Drama                 Frank Darabont   \n",
       "1               Crime, Drama           Francis Ford Coppola   \n",
       "2       Action, Crime, Drama              Christopher Nolan   \n",
       "3               Crime, Drama           Francis Ford Coppola   \n",
       "4               Crime, Drama                   Sidney Lumet   \n",
       "..                       ...                            ...   \n",
       "244          Drama, Thriller          Alejandro G. Iñárritu   \n",
       "245  Drama, Mystery, Romance               Alfred Hitchcock   \n",
       "246                    Drama                    Tate Taylor   \n",
       "247             Crime, Drama               Stuart Rosenberg   \n",
       "248         Animation, Drama  Taichi Ishidate, Naoko Yamada   \n",
       "\n",
       "                                                Writer  \\\n",
       "0                         Stephen King, Frank Darabont   \n",
       "1                     Mario Puzo, Francis Ford Coppola   \n",
       "2    Jonathan Nolan, Christopher Nolan, David S. Goyer   \n",
       "3                     Francis Ford Coppola, Mario Puzo   \n",
       "4                                        Reginald Rose   \n",
       "..                                                 ...   \n",
       "244                                  Guillermo Arriaga   \n",
       "245  Daphne Du Maurier, Robert E. Sherwood, Joan Ha...   \n",
       "246                      Tate Taylor, Kathryn Stockett   \n",
       "247            Donn Pearce, Frank Pierson, Hal Dresner   \n",
       "248                      Yoshitoki Ôima, Reiko Yoshida   \n",
       "\n",
       "                                                Actors  \\\n",
       "0              Tim Robbins, Morgan Freeman, Bob Gunton   \n",
       "1                 Marlon Brando, Al Pacino, James Caan   \n",
       "2          Christian Bale, Heath Ledger, Aaron Eckhart   \n",
       "3             Al Pacino, Robert De Niro, Robert Duvall   \n",
       "4              Henry Fonda, Lee J. Cobb, Martin Balsam   \n",
       "..                                                 ...   \n",
       "244  Emilio Echevarría, Gael García Bernal, Goya To...   \n",
       "245    Laurence Olivier, Joan Fontaine, George Sanders   \n",
       "246           Viola Davis, Emma Stone, Octavia Spencer   \n",
       "247       Paul Newman, George Kennedy, Strother Martin   \n",
       "248                 Miyu Irino, Saori Hayami, Aoi Yûki   \n",
       "\n",
       "                                                  Plot  ... imdbRating  \\\n",
       "0    A banker convicted of uxoricide forms a friend...  ...        9.3   \n",
       "1    The aging patriarch of an organized crime dyna...  ...        9.2   \n",
       "2    When a menace known as the Joker wreaks havoc ...  ...        9.0   \n",
       "3    The early life and career of Vito Corleone in ...  ...        9.0   \n",
       "4    The jury in a New York City murder trial is fr...  ...        9.0   \n",
       "..                                                 ...  ...        ...   \n",
       "244  An amateur dog fighter, a supermodel, and a de...  ...        8.0   \n",
       "245  A self-conscious woman juggles adjusting to he...  ...        8.1   \n",
       "246  An aspiring author during the civil rights mov...  ...        8.1   \n",
       "247  A laid-back Southern man is sentenced to two y...  ...        8.1   \n",
       "248  A deaf girl, Shoko, is bullied by the popular ...  ...        8.1   \n",
       "\n",
       "     imdbVotes     imdbID   Type  DVD     BoxOffice  Production Website  \\\n",
       "0    2,957,050  tt0111161  movie  N/A   $28,767,189         N/A     N/A   \n",
       "1    2,057,473  tt0068646  movie  N/A  $136,381,073         N/A     N/A   \n",
       "2    2,932,729  tt0468569  movie  N/A  $534,987,076         N/A     N/A   \n",
       "3    1,392,629  tt0071562  movie  N/A   $47,834,595         N/A     N/A   \n",
       "4      891,794  tt0050083  movie  N/A           N/A         N/A     N/A   \n",
       "..         ...        ...    ...  ...           ...         ...     ...   \n",
       "244    256,067  tt0245712  movie  N/A    $5,408,467         N/A     N/A   \n",
       "245    149,592  tt0032976  movie  N/A           N/A         N/A     N/A   \n",
       "246    501,417  tt1454029  movie  N/A  $169,708,112         N/A     N/A   \n",
       "247    191,228  tt0061512  movie  N/A           N/A         N/A     N/A   \n",
       "248    106,895  tt5323662  movie  N/A      $764,723         N/A     N/A   \n",
       "\n",
       "    Response Error  \n",
       "0       True   NaN  \n",
       "1       True   NaN  \n",
       "2       True   NaN  \n",
       "3       True   NaN  \n",
       "4       True   NaN  \n",
       "..       ...   ...  \n",
       "244     True   NaN  \n",
       "245     True   NaN  \n",
       "246     True   NaN  \n",
       "247     True   NaN  \n",
       "248     True   NaN  \n",
       "\n",
       "[249 rows x 26 columns]>"
      ]
     },
     "execution_count": 11,
     "metadata": {},
     "output_type": "execute_result"
    }
   ],
   "source": [
    "# reading JSON file through dataframe\n",
    "\n",
    "raw_omdb_df = pd.read_json('../Output/OMDb_Utelly/OMDb_250.json')\n",
    "raw_omdb_df.head"
   ]
  },
  {
   "cell_type": "code",
   "execution_count": 12,
   "metadata": {},
   "outputs": [
    {
     "data": {
      "text/plain": [
       "(249, 26)"
      ]
     },
     "execution_count": 12,
     "metadata": {},
     "output_type": "execute_result"
    }
   ],
   "source": [
    "raw_omdb_df.shape"
   ]
  },
  {
   "cell_type": "code",
   "execution_count": 13,
   "metadata": {},
   "outputs": [
    {
     "data": {
      "text/plain": [
       "['Title',\n",
       " 'Year',\n",
       " 'Rated',\n",
       " 'Released',\n",
       " 'Runtime',\n",
       " 'Genre',\n",
       " 'Director',\n",
       " 'Writer',\n",
       " 'Actors',\n",
       " 'Plot',\n",
       " 'Language',\n",
       " 'Country',\n",
       " 'Awards',\n",
       " 'Poster',\n",
       " 'Ratings',\n",
       " 'Metascore',\n",
       " 'imdbRating',\n",
       " 'imdbVotes',\n",
       " 'imdbID',\n",
       " 'Type',\n",
       " 'DVD',\n",
       " 'BoxOffice',\n",
       " 'Production',\n",
       " 'Website',\n",
       " 'Response',\n",
       " 'Error']"
      ]
     },
     "execution_count": 13,
     "metadata": {},
     "output_type": "execute_result"
    }
   ],
   "source": [
    "# Showing all column titles\n",
    "list(raw_omdb_df.columns)"
   ]
  },
  {
   "cell_type": "code",
   "execution_count": 14,
   "metadata": {},
   "outputs": [],
   "source": [
    "id_imdb_list = raw_omdb_df['imdbID']"
   ]
  },
  {
   "cell_type": "code",
   "execution_count": 15,
   "metadata": {},
   "outputs": [
    {
     "data": {
      "text/plain": [
       "249"
      ]
     },
     "execution_count": 15,
     "metadata": {},
     "output_type": "execute_result"
    }
   ],
   "source": [
    "len(id_imdb_list)"
   ]
  },
  {
   "cell_type": "code",
   "execution_count": 16,
   "metadata": {},
   "outputs": [
    {
     "name": "stdout",
     "output_type": "stream",
     "text": [
      "0      tt0111161\n",
      "1      tt0068646\n",
      "2      tt0468569\n",
      "3      tt0071562\n",
      "4      tt0050083\n",
      "         ...    \n",
      "244    tt0245712\n",
      "245    tt0032976\n",
      "246    tt1454029\n",
      "247    tt0061512\n",
      "248    tt5323662\n",
      "Name: imdbID, Length: 249, dtype: object\n"
     ]
    }
   ],
   "source": [
    "print(id_imdb_list)"
   ]
  },
  {
   "cell_type": "markdown",
   "metadata": {},
   "source": [
    "### Step 3: Collecting streaming options for Top 250 IMDb movies\n",
    "\n",
    "Endpoint: GET/idlookup"
   ]
  },
  {
   "cell_type": "code",
   "execution_count": 17,
   "metadata": {},
   "outputs": [],
   "source": [
    "from API_keys.config import api_key"
   ]
  },
  {
   "cell_type": "code",
   "execution_count": 18,
   "metadata": {},
   "outputs": [],
   "source": [
    "url = \"https://utelly-tv-shows-and-movies-availability-v1.p.rapidapi.com/idlookup\"\n",
    "\n",
    "querystring = {\"country\":\"us\",\"source\":\"imdb\"}\n",
    "\n",
    "headers = {\n",
    "\t\"x-rapidapi-key\": api_key,\n",
    "\t\"x-rapidapi-host\": \"utelly-tv-shows-and-movies-availability-v1.p.rapidapi.com\"\n",
    "}"
   ]
  },
  {
   "cell_type": "code",
   "execution_count": 19,
   "metadata": {},
   "outputs": [],
   "source": [
    "id_imdb_list_sample = ['tt0111161', 'tt0068646', 'tt0071562']"
   ]
  },
  {
   "cell_type": "code",
   "execution_count": 20,
   "metadata": {},
   "outputs": [
    {
     "name": "stdout",
     "output_type": "stream",
     "text": [
      "Data Not Available\n",
      "tt15239678\n",
      "\n",
      "\n",
      "Data Not Available\n",
      "nan\n",
      "\n",
      "\n",
      "Data Not Available\n",
      "tt23849204\n",
      "\n",
      "\n",
      "Data Not Available\n",
      "tt5074352\n",
      "\n",
      "\n",
      "Data Not Available\n",
      "tt0055031\n",
      "\n",
      "\n",
      "Data Not Available\n",
      "tt29623480\n",
      "\n",
      "\n",
      "Data Not Available\n",
      "tt26548265\n",
      "\n",
      "\n",
      "Data Not Available\n",
      "tt0476735\n",
      "\n",
      "\n",
      "Data Not Available\n",
      "tt0035446\n",
      "\n",
      "\n",
      "Data Not Available\n",
      "tt0032976\n",
      "\n",
      "\n"
     ]
    }
   ],
   "source": [
    "# Convert pandas Series to clean Python list\n",
    "id_imdb_list = id_imdb_list.tolist()\n",
    "\n",
    "imdb_id = []\n",
    "title = []\n",
    "streaming_service = []\n",
    "streaming_url = []\n",
    "all_requests_json = []\n",
    "\n",
    "for id_imdb in id_imdb_list:\n",
    "    time.sleep(2)\n",
    "    querystring = {\n",
    "            \"source_id\": id_imdb,\n",
    "            \"source\": \"imdb\",\n",
    "            \"country\": \"us\"\n",
    "        }\n",
    "    \n",
    "    try:\n",
    "        response = requests.request(\"GET\", url, headers=headers, params=querystring)\n",
    "\n",
    "        json_result = response.json()\n",
    "        all_requests_json.append(json_result)\n",
    "\n",
    "        for location in json_result['collection']['locations']:\n",
    "            imdb_id.append(json_result['id'])\n",
    "            title.append(json_result['collection']['name'])\n",
    "            streaming_service.append(location['display_name'])\n",
    "            streaming_url.append(location['url'])\n",
    "        \n",
    "    except:\n",
    "        print('Data Not Available')\n",
    "        print(id_imdb)\n",
    "        print('\\n')"
   ]
  },
  {
   "cell_type": "code",
   "execution_count": 21,
   "metadata": {},
   "outputs": [],
   "source": [
    "with open ('../Output/OMDB_Utelly/json_files/utelly_all_requests_json.json', 'w') as f:\n",
    "    json.dump(all_requests_json, f)"
   ]
  },
  {
   "cell_type": "code",
   "execution_count": 22,
   "metadata": {},
   "outputs": [],
   "source": [
    "streaming_dict = {'IMDb ID': imdb_id,\n",
    "                 'Title': title,\n",
    "                 'Streaming Service': streaming_service,\n",
    "                 'Streaming URL' : streaming_url\n",
    "                }"
   ]
  },
  {
   "cell_type": "code",
   "execution_count": 23,
   "metadata": {},
   "outputs": [
    {
     "data": {
      "text/html": [
       "<div>\n",
       "<style scoped>\n",
       "    .dataframe tbody tr th:only-of-type {\n",
       "        vertical-align: middle;\n",
       "    }\n",
       "\n",
       "    .dataframe tbody tr th {\n",
       "        vertical-align: top;\n",
       "    }\n",
       "\n",
       "    .dataframe thead th {\n",
       "        text-align: right;\n",
       "    }\n",
       "</style>\n",
       "<table border=\"1\" class=\"dataframe\">\n",
       "  <thead>\n",
       "    <tr style=\"text-align: right;\">\n",
       "      <th></th>\n",
       "      <th>IMDb ID</th>\n",
       "      <th>Title</th>\n",
       "      <th>Streaming Service</th>\n",
       "      <th>Streaming URL</th>\n",
       "    </tr>\n",
       "  </thead>\n",
       "  <tbody>\n",
       "    <tr>\n",
       "      <th>0</th>\n",
       "      <td>tt0111161</td>\n",
       "      <td>The Shawshank Redemption</td>\n",
       "      <td>Amazon Instant Video</td>\n",
       "      <td>https://www.amazon.com/gp/video/detail/B001EBV...</td>\n",
       "    </tr>\n",
       "    <tr>\n",
       "      <th>1</th>\n",
       "      <td>tt0111161</td>\n",
       "      <td>The Shawshank Redemption</td>\n",
       "      <td>Google Play</td>\n",
       "      <td>https://play.google.com/store/movies/details/T...</td>\n",
       "    </tr>\n",
       "    <tr>\n",
       "      <th>2</th>\n",
       "      <td>tt0111161</td>\n",
       "      <td>The Shawshank Redemption</td>\n",
       "      <td>iTunes</td>\n",
       "      <td>https://tv.apple.com/us/movie/the-shawshank-re...</td>\n",
       "    </tr>\n",
       "    <tr>\n",
       "      <th>3</th>\n",
       "      <td>tt0068646</td>\n",
       "      <td>The Godfather</td>\n",
       "      <td>Amazon Instant Video</td>\n",
       "      <td>https://www.amazon.com/gp/video/detail/B00BQRP...</td>\n",
       "    </tr>\n",
       "    <tr>\n",
       "      <th>4</th>\n",
       "      <td>tt0068646</td>\n",
       "      <td>The Godfather</td>\n",
       "      <td>Google Play</td>\n",
       "      <td>https://play.google.com/store/movies/details/T...</td>\n",
       "    </tr>\n",
       "    <tr>\n",
       "      <th>...</th>\n",
       "      <td>...</td>\n",
       "      <td>...</td>\n",
       "      <td>...</td>\n",
       "      <td>...</td>\n",
       "    </tr>\n",
       "    <tr>\n",
       "      <th>758</th>\n",
       "      <td>tt0061512</td>\n",
       "      <td>Cool Hand Luke</td>\n",
       "      <td>iTunes</td>\n",
       "      <td>https://tv.apple.com/us/movie/cool-hand-luke/u...</td>\n",
       "    </tr>\n",
       "    <tr>\n",
       "      <th>759</th>\n",
       "      <td>tt0061512</td>\n",
       "      <td>Cool Hand Luke</td>\n",
       "      <td>Amazon Prime Video</td>\n",
       "      <td>https://watch.amazon.com/detail?asin=B002V6RB1...</td>\n",
       "    </tr>\n",
       "    <tr>\n",
       "      <th>760</th>\n",
       "      <td>tt5323662</td>\n",
       "      <td>A Silent Voice: The Movie</td>\n",
       "      <td>Amazon Instant Video</td>\n",
       "      <td>https://www.amazon.com/gp/video/detail/B08DRR9...</td>\n",
       "    </tr>\n",
       "    <tr>\n",
       "      <th>761</th>\n",
       "      <td>tt5323662</td>\n",
       "      <td>A Silent Voice: The Movie</td>\n",
       "      <td>Google Play</td>\n",
       "      <td>https://play.google.com/store/movies/details/A...</td>\n",
       "    </tr>\n",
       "    <tr>\n",
       "      <th>762</th>\n",
       "      <td>tt5323662</td>\n",
       "      <td>A Silent Voice: The Movie</td>\n",
       "      <td>iTunes</td>\n",
       "      <td>https://tv.apple.com/us/movie/a-silent-voice-t...</td>\n",
       "    </tr>\n",
       "  </tbody>\n",
       "</table>\n",
       "<p>763 rows × 4 columns</p>\n",
       "</div>"
      ],
      "text/plain": [
       "       IMDb ID                      Title     Streaming Service  \\\n",
       "0    tt0111161   The Shawshank Redemption  Amazon Instant Video   \n",
       "1    tt0111161   The Shawshank Redemption           Google Play   \n",
       "2    tt0111161   The Shawshank Redemption                iTunes   \n",
       "3    tt0068646              The Godfather  Amazon Instant Video   \n",
       "4    tt0068646              The Godfather           Google Play   \n",
       "..         ...                        ...                   ...   \n",
       "758  tt0061512             Cool Hand Luke                iTunes   \n",
       "759  tt0061512             Cool Hand Luke    Amazon Prime Video   \n",
       "760  tt5323662  A Silent Voice: The Movie  Amazon Instant Video   \n",
       "761  tt5323662  A Silent Voice: The Movie           Google Play   \n",
       "762  tt5323662  A Silent Voice: The Movie                iTunes   \n",
       "\n",
       "                                         Streaming URL  \n",
       "0    https://www.amazon.com/gp/video/detail/B001EBV...  \n",
       "1    https://play.google.com/store/movies/details/T...  \n",
       "2    https://tv.apple.com/us/movie/the-shawshank-re...  \n",
       "3    https://www.amazon.com/gp/video/detail/B00BQRP...  \n",
       "4    https://play.google.com/store/movies/details/T...  \n",
       "..                                                 ...  \n",
       "758  https://tv.apple.com/us/movie/cool-hand-luke/u...  \n",
       "759  https://watch.amazon.com/detail?asin=B002V6RB1...  \n",
       "760  https://www.amazon.com/gp/video/detail/B08DRR9...  \n",
       "761  https://play.google.com/store/movies/details/A...  \n",
       "762  https://tv.apple.com/us/movie/a-silent-voice-t...  \n",
       "\n",
       "[763 rows x 4 columns]"
      ]
     },
     "execution_count": 23,
     "metadata": {},
     "output_type": "execute_result"
    }
   ],
   "source": [
    "streaming_df = pd.DataFrame(streaming_dict)\n",
    "streaming_df"
   ]
  },
  {
   "cell_type": "code",
   "execution_count": 24,
   "metadata": {},
   "outputs": [
    {
     "data": {
      "text/plain": [
       "(763, 4)"
      ]
     },
     "execution_count": 24,
     "metadata": {},
     "output_type": "execute_result"
    }
   ],
   "source": [
    "streaming_df.shape"
   ]
  },
  {
   "cell_type": "code",
   "execution_count": 25,
   "metadata": {},
   "outputs": [],
   "source": [
    "streaming_df.to_csv('../Output/OMDb_Utelly/streaming_df.csv', index=False)"
   ]
  }
 ],
 "metadata": {
  "kernelspec": {
   "display_name": "venv",
   "language": "python",
   "name": "python3"
  },
  "language_info": {
   "codemirror_mode": {
    "name": "ipython",
    "version": 3
   },
   "file_extension": ".py",
   "mimetype": "text/x-python",
   "name": "python",
   "nbconvert_exporter": "python",
   "pygments_lexer": "ipython3",
   "version": "3.12.4"
  }
 },
 "nbformat": 4,
 "nbformat_minor": 2
}
